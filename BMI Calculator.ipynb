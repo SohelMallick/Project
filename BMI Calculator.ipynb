{
 "cells": [
  {
   "cell_type": "code",
   "execution_count": 44,
   "id": "5f82ad7d",
   "metadata": {},
   "outputs": [],
   "source": [
    "# Importing Libraries\n",
    "import pandas as pd "
   ]
  },
  {
   "cell_type": "code",
   "execution_count": 45,
   "id": "f9be2528",
   "metadata": {},
   "outputs": [
    {
     "data": {
      "text/html": [
       "<div>\n",
       "<style scoped>\n",
       "    .dataframe tbody tr th:only-of-type {\n",
       "        vertical-align: middle;\n",
       "    }\n",
       "\n",
       "    .dataframe tbody tr th {\n",
       "        vertical-align: top;\n",
       "    }\n",
       "\n",
       "    .dataframe thead th {\n",
       "        text-align: right;\n",
       "    }\n",
       "</style>\n",
       "<table border=\"1\" class=\"dataframe\">\n",
       "  <thead>\n",
       "    <tr style=\"text-align: right;\">\n",
       "      <th></th>\n",
       "      <th>Gender</th>\n",
       "      <th>HeightCm</th>\n",
       "      <th>WeightKg</th>\n",
       "    </tr>\n",
       "  </thead>\n",
       "  <tbody>\n",
       "    <tr>\n",
       "      <th>0</th>\n",
       "      <td>Male</td>\n",
       "      <td>171</td>\n",
       "      <td>96</td>\n",
       "    </tr>\n",
       "    <tr>\n",
       "      <th>1</th>\n",
       "      <td>Male</td>\n",
       "      <td>161</td>\n",
       "      <td>85</td>\n",
       "    </tr>\n",
       "    <tr>\n",
       "      <th>2</th>\n",
       "      <td>Male</td>\n",
       "      <td>180</td>\n",
       "      <td>77</td>\n",
       "    </tr>\n",
       "    <tr>\n",
       "      <th>3</th>\n",
       "      <td>Female</td>\n",
       "      <td>166</td>\n",
       "      <td>62</td>\n",
       "    </tr>\n",
       "    <tr>\n",
       "      <th>4</th>\n",
       "      <td>Female</td>\n",
       "      <td>150</td>\n",
       "      <td>70</td>\n",
       "    </tr>\n",
       "    <tr>\n",
       "      <th>5</th>\n",
       "      <td>Female</td>\n",
       "      <td>167</td>\n",
       "      <td>82</td>\n",
       "    </tr>\n",
       "  </tbody>\n",
       "</table>\n",
       "</div>"
      ],
      "text/plain": [
       "   Gender  HeightCm  WeightKg\n",
       "0    Male       171        96\n",
       "1    Male       161        85\n",
       "2    Male       180        77\n",
       "3  Female       166        62\n",
       "4  Female       150        70\n",
       "5  Female       167        82"
      ]
     },
     "execution_count": 45,
     "metadata": {},
     "output_type": "execute_result"
    }
   ],
   "source": [
    "# Read Json file\n",
    "Customer_data=pd.read_json('data.json')\n",
    "Customer_data"
   ]
  },
  {
   "cell_type": "code",
   "execution_count": 46,
   "id": "fc0af538",
   "metadata": {},
   "outputs": [],
   "source": [
    "# # Function to convert centimeters to meters \n",
    "# def cm_to_m(height_cm):\n",
    "#     height_m=height_cm/100\n",
    "#     return height_m\n",
    "# #cm_to_m(df['HeightCm'])    # testing cm_to_m function "
   ]
  },
  {
   "cell_type": "code",
   "execution_count": 47,
   "id": "f8100b42",
   "metadata": {},
   "outputs": [],
   "source": [
    "# Function to calculate BMI \n",
    "def calculate_bmi(height_m, weight_kg):\n",
    "    bmi = round((weight_kg/(height_m/100)**2),1)\n",
    "    return bmi\n",
    "#calculate_bmi(171,96)  # testing BMI function"
   ]
  },
  {
   "cell_type": "code",
   "execution_count": 48,
   "id": "f5102303",
   "metadata": {},
   "outputs": [],
   "source": [
    "#calculating BMI and storing in a new column BMI \n",
    "Customer_data['BMI'] =Customer_data.apply(lambda x: calculate_bmi(x['HeightCm'],x['WeightKg']), axis=1) "
   ]
  },
  {
   "cell_type": "code",
   "execution_count": 49,
   "id": "35d2af3a",
   "metadata": {},
   "outputs": [],
   "source": [
    "# Classification of BMI Catagory\n",
    "def bmi_catagory(bmi):\n",
    "    if (bmi<18.5):\n",
    "        return 'Underweight'\n",
    "    elif (18.5<=bmi<25):\n",
    "        return 'Normal Weight'\n",
    "    elif (25<=bmi<30):\n",
    "        return 'Overweight'\n",
    "    elif (30<=bmi<35):\n",
    "        return 'Moderately Obese'\n",
    "    elif (35<=bmi<40):\n",
    "        return 'Severely Obese'\n",
    "    elif (bmi>=40):\n",
    "        return 'Very Severely Obese'\n"
   ]
  },
  {
   "cell_type": "code",
   "execution_count": 50,
   "id": "0ca7fd23",
   "metadata": {},
   "outputs": [],
   "source": [
    "# Creating BMI Catagory column\n",
    "Customer_data['BMI Catagory']=Customer_data.apply(lambda x: bmi_catagory(x['BMI']), axis=1)"
   ]
  },
  {
   "cell_type": "code",
   "execution_count": 51,
   "id": "ad027e56",
   "metadata": {},
   "outputs": [],
   "source": [
    "# Health Risk calculation\n",
    "def health_risk(bmi):\n",
    "    if (bmi<18.5):\n",
    "        return 'Malnutrition risk'\n",
    "    elif (18.5<=bmi<25):\n",
    "        return 'Low risk'\n",
    "    elif (25<=bmi<30):\n",
    "        return 'Enhanced risk'\n",
    "    elif (30<=bmi<35):\n",
    "        return 'Medium risk'\n",
    "    elif (35<=bmi<40):\n",
    "        return 'High risk'\n",
    "    elif (bmi>=40):\n",
    "        return 'Very High risk'"
   ]
  },
  {
   "cell_type": "code",
   "execution_count": 52,
   "id": "9adbd3a2",
   "metadata": {},
   "outputs": [],
   "source": [
    "Customer_data['Health risk']=Customer_data.apply(lambda x: health_risk(x['BMI']), axis=1)"
   ]
  },
  {
   "cell_type": "code",
   "execution_count": 53,
   "id": "9c760144",
   "metadata": {},
   "outputs": [
    {
     "name": "stdout",
     "output_type": "stream",
     "text": [
      "Number of Overweight people : 1\n"
     ]
    }
   ],
   "source": [
    "# Counting number of overweight people \n",
    "\n",
    "print('Number of Overweight people :',len(Customer_data[Customer_data['BMI Catagory']=='Overweight'].index))  # counting just the index for a faster result "
   ]
  },
  {
   "cell_type": "code",
   "execution_count": 54,
   "id": "b09ff8a6",
   "metadata": {},
   "outputs": [],
   "source": [
    "#saving the file as csv\n",
    "Customer_data.to_csv('output_csv.csv')"
   ]
  },
  {
   "cell_type": "code",
   "execution_count": 55,
   "id": "0a479c59",
   "metadata": {},
   "outputs": [],
   "source": [
    "#saving the file as json\n",
    "Customer_data.to_json('output_json.json')"
   ]
  },
  {
   "cell_type": "code",
   "execution_count": null,
   "id": "97ed0dc6",
   "metadata": {},
   "outputs": [],
   "source": []
  }
 ],
 "metadata": {
  "kernelspec": {
   "display_name": "Python 3",
   "language": "python",
   "name": "python3"
  },
  "language_info": {
   "codemirror_mode": {
    "name": "ipython",
    "version": 3
   },
   "file_extension": ".py",
   "mimetype": "text/x-python",
   "name": "python",
   "nbconvert_exporter": "python",
   "pygments_lexer": "ipython3",
   "version": "3.8.8"
  }
 },
 "nbformat": 4,
 "nbformat_minor": 5
}
